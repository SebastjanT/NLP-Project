{
  "nbformat": 4,
  "nbformat_minor": 0,
  "metadata": {
    "colab": {
      "name": "sentiment.ipynb",
      "provenance": [],
      "collapsed_sections": []
    },
    "kernelspec": {
      "name": "python3",
      "display_name": "Python 3"
    },
    "language_info": {
      "name": "python"
    },
    "accelerator": "GPU"
  },
  "cells": [
    {
      "cell_type": "markdown",
      "source": [
        "# Sentiment analysis of NER extacted sentences from short stories\n"
      ],
      "metadata": {
        "id": "EUdQwCQ1ebMJ"
      }
    },
    {
      "cell_type": "code",
      "source": [
        "!pip install tensorflow-gpu torch pandas numpy scikit-learn transformers"
      ],
      "metadata": {
        "id": "FN3BRrIiecnK",
        "colab": {
          "base_uri": "https://localhost:8080/"
        },
        "outputId": "f72ef408-67af-46d7-858c-8526342aef6d"
      },
      "execution_count": 1,
      "outputs": [
        {
          "output_type": "stream",
          "name": "stdout",
          "text": [
            "Collecting tensorflow-gpu\n",
            "  Downloading tensorflow_gpu-2.8.0-cp37-cp37m-manylinux2010_x86_64.whl (497.5 MB)\n",
            "\u001b[K     |████████████████████████████████| 497.5 MB 25 kB/s \n",
            "\u001b[?25hRequirement already satisfied: torch in /usr/local/lib/python3.7/dist-packages (1.11.0+cu113)\n",
            "Requirement already satisfied: pandas in /usr/local/lib/python3.7/dist-packages (1.3.5)\n",
            "Requirement already satisfied: numpy in /usr/local/lib/python3.7/dist-packages (1.21.6)\n",
            "Requirement already satisfied: scikit-learn in /usr/local/lib/python3.7/dist-packages (1.0.2)\n",
            "Collecting transformers\n",
            "  Downloading transformers-4.18.0-py3-none-any.whl (4.0 MB)\n",
            "\u001b[K     |████████████████████████████████| 4.0 MB 37.0 MB/s \n",
            "\u001b[?25hRequirement already satisfied: wrapt>=1.11.0 in /usr/local/lib/python3.7/dist-packages (from tensorflow-gpu) (1.14.0)\n",
            "Requirement already satisfied: termcolor>=1.1.0 in /usr/local/lib/python3.7/dist-packages (from tensorflow-gpu) (1.1.0)\n",
            "Requirement already satisfied: opt-einsum>=2.3.2 in /usr/local/lib/python3.7/dist-packages (from tensorflow-gpu) (3.3.0)\n",
            "Requirement already satisfied: protobuf>=3.9.2 in /usr/local/lib/python3.7/dist-packages (from tensorflow-gpu) (3.17.3)\n",
            "Requirement already satisfied: keras<2.9,>=2.8.0rc0 in /usr/local/lib/python3.7/dist-packages (from tensorflow-gpu) (2.8.0)\n",
            "Requirement already satisfied: astunparse>=1.6.0 in /usr/local/lib/python3.7/dist-packages (from tensorflow-gpu) (1.6.3)\n",
            "Requirement already satisfied: gast>=0.2.1 in /usr/local/lib/python3.7/dist-packages (from tensorflow-gpu) (0.5.3)\n",
            "Requirement already satisfied: absl-py>=0.4.0 in /usr/local/lib/python3.7/dist-packages (from tensorflow-gpu) (1.0.0)\n",
            "Collecting tf-estimator-nightly==2.8.0.dev2021122109\n",
            "  Downloading tf_estimator_nightly-2.8.0.dev2021122109-py2.py3-none-any.whl (462 kB)\n",
            "\u001b[K     |████████████████████████████████| 462 kB 46.9 MB/s \n",
            "\u001b[?25hRequirement already satisfied: tensorboard<2.9,>=2.8 in /usr/local/lib/python3.7/dist-packages (from tensorflow-gpu) (2.8.0)\n",
            "Requirement already satisfied: tensorflow-io-gcs-filesystem>=0.23.1 in /usr/local/lib/python3.7/dist-packages (from tensorflow-gpu) (0.25.0)\n",
            "Requirement already satisfied: h5py>=2.9.0 in /usr/local/lib/python3.7/dist-packages (from tensorflow-gpu) (3.1.0)\n",
            "Requirement already satisfied: libclang>=9.0.1 in /usr/local/lib/python3.7/dist-packages (from tensorflow-gpu) (14.0.1)\n",
            "Requirement already satisfied: grpcio<2.0,>=1.24.3 in /usr/local/lib/python3.7/dist-packages (from tensorflow-gpu) (1.44.0)\n",
            "Requirement already satisfied: six>=1.12.0 in /usr/local/lib/python3.7/dist-packages (from tensorflow-gpu) (1.15.0)\n",
            "Requirement already satisfied: google-pasta>=0.1.1 in /usr/local/lib/python3.7/dist-packages (from tensorflow-gpu) (0.2.0)\n",
            "Requirement already satisfied: setuptools in /usr/local/lib/python3.7/dist-packages (from tensorflow-gpu) (57.4.0)\n",
            "Requirement already satisfied: flatbuffers>=1.12 in /usr/local/lib/python3.7/dist-packages (from tensorflow-gpu) (2.0)\n",
            "Requirement already satisfied: typing-extensions>=3.6.6 in /usr/local/lib/python3.7/dist-packages (from tensorflow-gpu) (4.2.0)\n",
            "Requirement already satisfied: keras-preprocessing>=1.1.1 in /usr/local/lib/python3.7/dist-packages (from tensorflow-gpu) (1.1.2)\n",
            "Requirement already satisfied: wheel<1.0,>=0.23.0 in /usr/local/lib/python3.7/dist-packages (from astunparse>=1.6.0->tensorflow-gpu) (0.37.1)\n",
            "Requirement already satisfied: cached-property in /usr/local/lib/python3.7/dist-packages (from h5py>=2.9.0->tensorflow-gpu) (1.5.2)\n",
            "Requirement already satisfied: tensorboard-data-server<0.7.0,>=0.6.0 in /usr/local/lib/python3.7/dist-packages (from tensorboard<2.9,>=2.8->tensorflow-gpu) (0.6.1)\n",
            "Requirement already satisfied: markdown>=2.6.8 in /usr/local/lib/python3.7/dist-packages (from tensorboard<2.9,>=2.8->tensorflow-gpu) (3.3.6)\n",
            "Requirement already satisfied: google-auth-oauthlib<0.5,>=0.4.1 in /usr/local/lib/python3.7/dist-packages (from tensorboard<2.9,>=2.8->tensorflow-gpu) (0.4.6)\n",
            "Requirement already satisfied: werkzeug>=0.11.15 in /usr/local/lib/python3.7/dist-packages (from tensorboard<2.9,>=2.8->tensorflow-gpu) (1.0.1)\n",
            "Requirement already satisfied: requests<3,>=2.21.0 in /usr/local/lib/python3.7/dist-packages (from tensorboard<2.9,>=2.8->tensorflow-gpu) (2.23.0)\n",
            "Requirement already satisfied: tensorboard-plugin-wit>=1.6.0 in /usr/local/lib/python3.7/dist-packages (from tensorboard<2.9,>=2.8->tensorflow-gpu) (1.8.1)\n",
            "Requirement already satisfied: google-auth<3,>=1.6.3 in /usr/local/lib/python3.7/dist-packages (from tensorboard<2.9,>=2.8->tensorflow-gpu) (1.35.0)\n",
            "Requirement already satisfied: cachetools<5.0,>=2.0.0 in /usr/local/lib/python3.7/dist-packages (from google-auth<3,>=1.6.3->tensorboard<2.9,>=2.8->tensorflow-gpu) (4.2.4)\n",
            "Requirement already satisfied: rsa<5,>=3.1.4 in /usr/local/lib/python3.7/dist-packages (from google-auth<3,>=1.6.3->tensorboard<2.9,>=2.8->tensorflow-gpu) (4.8)\n",
            "Requirement already satisfied: pyasn1-modules>=0.2.1 in /usr/local/lib/python3.7/dist-packages (from google-auth<3,>=1.6.3->tensorboard<2.9,>=2.8->tensorflow-gpu) (0.2.8)\n",
            "Requirement already satisfied: requests-oauthlib>=0.7.0 in /usr/local/lib/python3.7/dist-packages (from google-auth-oauthlib<0.5,>=0.4.1->tensorboard<2.9,>=2.8->tensorflow-gpu) (1.3.1)\n",
            "Requirement already satisfied: importlib-metadata>=4.4 in /usr/local/lib/python3.7/dist-packages (from markdown>=2.6.8->tensorboard<2.9,>=2.8->tensorflow-gpu) (4.11.3)\n",
            "Requirement already satisfied: zipp>=0.5 in /usr/local/lib/python3.7/dist-packages (from importlib-metadata>=4.4->markdown>=2.6.8->tensorboard<2.9,>=2.8->tensorflow-gpu) (3.8.0)\n",
            "Requirement already satisfied: pyasn1<0.5.0,>=0.4.6 in /usr/local/lib/python3.7/dist-packages (from pyasn1-modules>=0.2.1->google-auth<3,>=1.6.3->tensorboard<2.9,>=2.8->tensorflow-gpu) (0.4.8)\n",
            "Requirement already satisfied: certifi>=2017.4.17 in /usr/local/lib/python3.7/dist-packages (from requests<3,>=2.21.0->tensorboard<2.9,>=2.8->tensorflow-gpu) (2021.10.8)\n",
            "Requirement already satisfied: urllib3!=1.25.0,!=1.25.1,<1.26,>=1.21.1 in /usr/local/lib/python3.7/dist-packages (from requests<3,>=2.21.0->tensorboard<2.9,>=2.8->tensorflow-gpu) (1.24.3)\n",
            "Requirement already satisfied: idna<3,>=2.5 in /usr/local/lib/python3.7/dist-packages (from requests<3,>=2.21.0->tensorboard<2.9,>=2.8->tensorflow-gpu) (2.10)\n",
            "Requirement already satisfied: chardet<4,>=3.0.2 in /usr/local/lib/python3.7/dist-packages (from requests<3,>=2.21.0->tensorboard<2.9,>=2.8->tensorflow-gpu) (3.0.4)\n",
            "Requirement already satisfied: oauthlib>=3.0.0 in /usr/local/lib/python3.7/dist-packages (from requests-oauthlib>=0.7.0->google-auth-oauthlib<0.5,>=0.4.1->tensorboard<2.9,>=2.8->tensorflow-gpu) (3.2.0)\n",
            "Requirement already satisfied: pytz>=2017.3 in /usr/local/lib/python3.7/dist-packages (from pandas) (2022.1)\n",
            "Requirement already satisfied: python-dateutil>=2.7.3 in /usr/local/lib/python3.7/dist-packages (from pandas) (2.8.2)\n",
            "Requirement already satisfied: joblib>=0.11 in /usr/local/lib/python3.7/dist-packages (from scikit-learn) (1.1.0)\n",
            "Requirement already satisfied: scipy>=1.1.0 in /usr/local/lib/python3.7/dist-packages (from scikit-learn) (1.4.1)\n",
            "Requirement already satisfied: threadpoolctl>=2.0.0 in /usr/local/lib/python3.7/dist-packages (from scikit-learn) (3.1.0)\n",
            "Requirement already satisfied: regex!=2019.12.17 in /usr/local/lib/python3.7/dist-packages (from transformers) (2019.12.20)\n",
            "Collecting tokenizers!=0.11.3,<0.13,>=0.11.1\n",
            "  Downloading tokenizers-0.12.1-cp37-cp37m-manylinux_2_12_x86_64.manylinux2010_x86_64.whl (6.6 MB)\n",
            "\u001b[K     |████████████████████████████████| 6.6 MB 33.9 MB/s \n",
            "\u001b[?25hCollecting pyyaml>=5.1\n",
            "  Downloading PyYAML-6.0-cp37-cp37m-manylinux_2_5_x86_64.manylinux1_x86_64.manylinux_2_12_x86_64.manylinux2010_x86_64.whl (596 kB)\n",
            "\u001b[K     |████████████████████████████████| 596 kB 44.9 MB/s \n",
            "\u001b[?25hRequirement already satisfied: packaging>=20.0 in /usr/local/lib/python3.7/dist-packages (from transformers) (21.3)\n",
            "Requirement already satisfied: tqdm>=4.27 in /usr/local/lib/python3.7/dist-packages (from transformers) (4.64.0)\n",
            "Collecting sacremoses\n",
            "  Downloading sacremoses-0.0.53.tar.gz (880 kB)\n",
            "\u001b[K     |████████████████████████████████| 880 kB 42.9 MB/s \n",
            "\u001b[?25hCollecting huggingface-hub<1.0,>=0.1.0\n",
            "  Downloading huggingface_hub-0.5.1-py3-none-any.whl (77 kB)\n",
            "\u001b[K     |████████████████████████████████| 77 kB 6.5 MB/s \n",
            "\u001b[?25hRequirement already satisfied: filelock in /usr/local/lib/python3.7/dist-packages (from transformers) (3.6.0)\n",
            "Requirement already satisfied: pyparsing!=3.0.5,>=2.0.2 in /usr/local/lib/python3.7/dist-packages (from packaging>=20.0->transformers) (3.0.8)\n",
            "Requirement already satisfied: click in /usr/local/lib/python3.7/dist-packages (from sacremoses->transformers) (7.1.2)\n",
            "Building wheels for collected packages: sacremoses\n",
            "  Building wheel for sacremoses (setup.py) ... \u001b[?25l\u001b[?25hdone\n",
            "  Created wheel for sacremoses: filename=sacremoses-0.0.53-py3-none-any.whl size=895260 sha256=77802748d2ef950fab2ba451422f9a866bafc446def679038f8c0252e3b2e12b\n",
            "  Stored in directory: /root/.cache/pip/wheels/87/39/dd/a83eeef36d0bf98e7a4d1933a4ad2d660295a40613079bafc9\n",
            "Successfully built sacremoses\n",
            "Installing collected packages: pyyaml, tokenizers, tf-estimator-nightly, sacremoses, huggingface-hub, transformers, tensorflow-gpu\n",
            "  Attempting uninstall: pyyaml\n",
            "    Found existing installation: PyYAML 3.13\n",
            "    Uninstalling PyYAML-3.13:\n",
            "      Successfully uninstalled PyYAML-3.13\n",
            "Successfully installed huggingface-hub-0.5.1 pyyaml-6.0 sacremoses-0.0.53 tensorflow-gpu-2.8.0 tf-estimator-nightly-2.8.0.dev2021122109 tokenizers-0.12.1 transformers-4.18.0\n"
          ]
        }
      ]
    },
    {
      "cell_type": "markdown",
      "source": [
        "### I/O device registering\n",
        "\n",
        "Current working directory is set to `/content` by default. You can also give access to your Google Drive to save models/results/... there."
      ],
      "metadata": {
        "id": "2ga9y5OdetEN"
      }
    },
    {
      "cell_type": "code",
      "source": [
        "from google.colab import drive\n",
        "drive.mount(\"/content/drive/\")\n",
        "\n",
        "# Access your Drive data using folder '/content/drive/MyDrive'\n",
        "\n",
        "!ls -lah /content/drive/MyDrive/NLP-Project/"
      ],
      "metadata": {
        "id": "JnhA7BgReuHi",
        "colab": {
          "base_uri": "https://localhost:8080/"
        },
        "outputId": "b3e7e099-c046-4ec2-8bf3-49e7674eb297"
      },
      "execution_count": 118,
      "outputs": [
        {
          "output_type": "stream",
          "name": "stdout",
          "text": [
            "Mounted at /content/drive/\n",
            "total 8.0K\n",
            "drwx------ 2 root root 4.0K May  4 10:34 data\n",
            "drwx------ 2 root root 4.0K May  4 10:35 ner\n"
          ]
        }
      ]
    },
    {
      "cell_type": "markdown",
      "source": [
        "### GPU device selection review\n",
        "\n",
        "You can directly use system command `nvidia-smi` or use Python library (e.g. Tensorflow or PyTorch) to check this."
      ],
      "metadata": {
        "id": "-lFaLU-ge2Y8"
      }
    },
    {
      "cell_type": "code",
      "source": [
        "!nvidia-smi"
      ],
      "metadata": {
        "colab": {
          "base_uri": "https://localhost:8080/"
        },
        "id": "GCVToZ7ee3Zz",
        "outputId": "a2b7d6ae-03d7-4dd0-e18d-40786e63fa8e"
      },
      "execution_count": 3,
      "outputs": [
        {
          "output_type": "stream",
          "name": "stdout",
          "text": [
            "Wed May  4 12:18:31 2022       \n",
            "+-----------------------------------------------------------------------------+\n",
            "| NVIDIA-SMI 460.32.03    Driver Version: 460.32.03    CUDA Version: 11.2     |\n",
            "|-------------------------------+----------------------+----------------------+\n",
            "| GPU  Name        Persistence-M| Bus-Id        Disp.A | Volatile Uncorr. ECC |\n",
            "| Fan  Temp  Perf  Pwr:Usage/Cap|         Memory-Usage | GPU-Util  Compute M. |\n",
            "|                               |                      |               MIG M. |\n",
            "|===============================+======================+======================|\n",
            "|   0  Tesla K80           Off  | 00000000:00:04.0 Off |                    0 |\n",
            "| N/A   45C    P8    29W / 149W |      0MiB / 11441MiB |      0%      Default |\n",
            "|                               |                      |                  N/A |\n",
            "+-------------------------------+----------------------+----------------------+\n",
            "                                                                               \n",
            "+-----------------------------------------------------------------------------+\n",
            "| Processes:                                                                  |\n",
            "|  GPU   GI   CI        PID   Type   Process name                  GPU Memory |\n",
            "|        ID   ID                                                   Usage      |\n",
            "|=============================================================================|\n",
            "|  No running processes found                                                 |\n",
            "+-----------------------------------------------------------------------------+\n"
          ]
        }
      ]
    },
    {
      "cell_type": "code",
      "source": [
        "import tensorflow as tf\n",
        "import os\n",
        "print(f\"Tensorflow version: {tf.__version__}\")\n",
        "\n",
        "# Restrict TensorFlow to only allocate 4GBs of memory on the first GPU\n",
        "gpus = tf.config.experimental.list_physical_devices('GPU')\n",
        "if gpus:\n",
        "  try:\n",
        "    tf.config.experimental.set_virtual_device_configuration(\n",
        "        gpus[0],\n",
        "        [tf.config.experimental.VirtualDeviceConfiguration(memory_limit=4096)])\n",
        "    logical_gpus = tf.config.experimental.list_logical_devices('GPU')\n",
        "    print(f\"The system contains '{len(gpus)}' Physical GPUs and '{len(logical_gpus)}' Logical GPUs\")\n",
        "  except RuntimeError as e:\n",
        "    print(e)\n",
        "else:\n",
        "    print(f\"Your system does not contain a GPU that could be used by Tensorflow!\")"
      ],
      "metadata": {
        "colab": {
          "base_uri": "https://localhost:8080/"
        },
        "id": "1PZkLPRxe59C",
        "outputId": "4d2d032d-b571-4025-b740-84bb1f3e635d"
      },
      "execution_count": 4,
      "outputs": [
        {
          "output_type": "stream",
          "name": "stdout",
          "text": [
            "Tensorflow version: 2.8.0\n",
            "The system contains '1' Physical GPUs and '1' Logical GPUs\n"
          ]
        }
      ]
    },
    {
      "cell_type": "markdown",
      "source": [
        "## Sentiment analysis proof of concept\n",
        "\n",
        "Using the sentances grouped by NER tagging. We calculate the normalised average of a persons sentiment.\n",
        "\n",
        "For the moment we are using the default Huggingface pipline to obtain proof of concept results.\n",
        "\n",
        "If the results are promisin we shall create our finetuned implementation/arhicheture.\n"
      ],
      "metadata": {
        "id": "yUT6dN6Ne7oa"
      }
    },
    {
      "cell_type": "code",
      "source": [
        "# Imports\n",
        "import os\n",
        "import json\n",
        "import numpy as np\n",
        "import matplotlib.pyplot as plt\n",
        "import matplotlib.patches as mpatches\n",
        "\n",
        "\n",
        "from transformers import pipeline\n",
        "from pathlib import PurePath\n",
        "from matplotlib.collections import PatchCollection\n"
      ],
      "metadata": {
        "id": "cW9Sd_rse8fl"
      },
      "execution_count": 101,
      "outputs": []
    },
    {
      "cell_type": "code",
      "source": [
        "# Character object\n",
        "\n",
        "class CharacterData:\n",
        "  def __init__(self, character, frequency, appearances):\n",
        "    self.character = character\n",
        "    self.frequency = len(appearances) # int(frequency) extraction was not accurate\n",
        "    self.appearances = appearances\n",
        "    self.appearances_scores = []\n",
        "    self.sentiment_class = None\n",
        "    self.sentiment_score = None\n",
        "\n",
        "  def get_info(self):\n",
        "    return self.character, self.frequency, self.sentiment_class, self.sentiment_score\n",
        "\n",
        "  def print_info(self):\n",
        "    print(f\"{'':->150}\")\n",
        "    print(f\"Character name: {self.character}\")\n",
        "    print(f\"Frequency in story: {self.frequency}\")\n",
        "    if self.sentiment_class:\n",
        "      print(f\"Classified as {self.sentiment_class} with average score of: {self.sentiment_score}\")\n",
        "    print(f\"{'':->150}\")\n",
        "\n",
        "  def get_appearances(self):\n",
        "    return self.appearances\n",
        "\n",
        "  def add_appearances_score(self, appearances_score):\n",
        "    self.appearances_scores.extend(appearances_score)\n",
        "    if len(self.appearances_scores) == self.frequency:\n",
        "      self.calculate_statistics()\n",
        "\n",
        "  def calculate_statistics(self, mode = \"Average\"):\n",
        "    if mode == \"Average\":\n",
        "      negative_average_score = 0\n",
        "      positive_average_score = 0\n",
        "      for score in self.appearances_scores:\n",
        "        if score[\"label\"] == \"NEGATIVE\":\n",
        "          negative_average_score += float(score[\"score\"]) / self.frequency\n",
        "        elif score[\"label\"] == \"POSITIVE\":\n",
        "          positive_average_score += float(score[\"score\"]) / self.frequency\n",
        "        else:\n",
        "          raise ValueError(\"Label unknown!\")\n",
        "      \n",
        "      if negative_average_score >= positive_average_score:\n",
        "        self.sentiment_class = \"NEGATIVE\"\n",
        "        self.sentiment_score = negative_average_score\n",
        "      else:\n",
        "        self.sentiment_class = \"POSITIVE\"\n",
        "        self.sentiment_score = positive_average_score\n",
        "      \n",
        "    elif mode == \"Mean\":\n",
        "      negative_weighted_average = 0\n",
        "      positive_weighted_average = 0\n",
        "      sum_of_negative_scores = 0\n",
        "      sum_of_positive_scores = 0\n",
        "      for score in self.appearances_scores:\n",
        "        if score[\"label\"] == \"NEGATIVE\":\n",
        "          negative_weighted_average += float(score[\"score\"]) * 1\n",
        "          sum_of_negative_scores += float(score[\"score\"])\n",
        "        elif score[\"label\"] == \"POSITIVE\":\n",
        "          positive_weighted_average += float(score[\"score\"]) * 1\n",
        "          sum_of_positive_scores += float(score[\"score\"])\n",
        "        else:\n",
        "          raise ValueError(\"Label unknown!\")\n",
        "\n",
        "      # Calculate the mean\n",
        "      if sum_of_negative_scores != 0:\n",
        "        negative_weighted_average /= sum_of_negative_scores\n",
        "      if sum_of_positive_scores != 0:\n",
        "        positive_weighted_average /= sum_of_positive_scores\n",
        "\n",
        "      if negative_weighted_average >= positive_weighted_average:\n",
        "        self.sentiment_class = \"NEGATIVE\"\n",
        "        self.sentiment_score = negative_weighted_average\n",
        "      else:\n",
        "        self.sentiment_class = \"POSITIVE\"\n",
        "        self.sentiment_score = positive_weighted_average\n",
        "\n",
        "  def get_dict(self):\n",
        "    return {\n",
        "        \"character\": self.character,\n",
        "        \"frequency\": self.frequency,\n",
        "        \"appearances\": self.appearances,\n",
        "        \"appearances_scores\": self.appearances_scores,\n",
        "        \"sentiment_class\": self.sentiment_class,\n",
        "        \"sentiment_score\": self.sentiment_score\n",
        "    }\n"
      ],
      "metadata": {
        "id": "vq7gHZKuCD6D"
      },
      "execution_count": 120,
      "outputs": []
    },
    {
      "cell_type": "code",
      "source": [
        "# Read in the data\n",
        "\n",
        "def decode_data(path, filename):\n",
        "  # Output placeholder  \n",
        "  story_data = []\n",
        "  # Read the file\n",
        "  with open(PurePath(path, filename)) as f:\n",
        "    data = json.loads(f.read())\n",
        "    #print(data)\n",
        "    for character in data:\n",
        "      if int(character[\"frequency\"]) != 0:\n",
        "        story_data.append(CharacterData(character[\"character\"], character[\"frequency\"], character[\"appearances\"]))\n",
        "\n",
        "  return story_data\n",
        "\n",
        "# Write out the data\n",
        "\n",
        "def encode_data(path, filename, output):\n",
        "  # Export the json file\n",
        "  json_dump = json.dumps(output)\n",
        "\n",
        "  with open(PurePath(path, \"sentiment\", filename), \"w\") as f:\n",
        "    f.write(json_dump)"
      ],
      "metadata": {
        "id": "hOQjlwnHAnu2"
      },
      "execution_count": 121,
      "outputs": []
    },
    {
      "cell_type": "code",
      "source": [
        "# Sentiment pipeline\n",
        "\n",
        "def sentiment_analysis(classifier, character_data):\n",
        "  for appearance in character_data.get_appearances():\n",
        "    #print(appearance)\n",
        "    result = classifier(appearance)\n",
        "    \n",
        "    # Add the score to the character_data\n",
        "    character_data.add_appearances_score(result)\n"
      ],
      "metadata": {
        "id": "aVhooqahfNke"
      },
      "execution_count": 122,
      "outputs": []
    },
    {
      "cell_type": "code",
      "source": [
        "# Plot the data\n",
        "\n",
        "def label(xy, text):\n",
        "    y = xy[1] - 0.15  # Shift y-value for label so that it's below the artist\n",
        "    plt.text(xy[0], y, text, ha=\"center\", family='sans-serif', size=14)\n",
        "\n",
        "def plot_data(story_data):\n",
        "  fig, ax = plt.subplots()\n",
        "  # Create 2x2 grid to plot the artists\n",
        "  grid = np.mgrid[0.2:0.8:2j, 0.2:0.8:2j].reshape(2, -1).T\n",
        "  \n",
        "  patches = []\n",
        "  colors = []\n",
        "\n",
        "  for i, character in enumerate(story_data):\n",
        "    name, freq, sentiment, score = character.get_info()\n",
        "\n",
        "    color = \"g\"\n",
        "    if sentiment == \"NEGATIVE\":\n",
        "      color = \"r\"\n",
        "\n",
        "    # Add a circle\n",
        "    circle = mpatches.Circle(grid[i], 0.1, ec = \"none\", color = color)\n",
        "    patches.append(circle)\n",
        "    label(grid[i], f\"{name} ({score:.2f})\")\n",
        "\n",
        "  collection = PatchCollection(patches, match_original = True)\n",
        "  ax.add_collection(collection)\n",
        "\n",
        "  plt.axis('equal')\n",
        "  plt.axis('off')\n",
        "  plt.tight_layout()\n",
        "\n",
        "  plt.show()"
      ],
      "metadata": {
        "id": "qpCKC01QPDyO"
      },
      "execution_count": 137,
      "outputs": []
    },
    {
      "cell_type": "code",
      "source": [
        "# Main execution\n",
        "\n",
        "def main(path):\n",
        "  path_ner = PurePath(path, \"ner\")\n",
        "\n",
        "  for file in os.listdir(path_ner):\n",
        "    if os.path.isfile(PurePath(path_ner, file)):\n",
        "      filename = PurePath(file)\n",
        "\n",
        "      print(f\"{'':_>150}\")\n",
        "      print(filename)\n",
        "      print(f\"{'':_>150}\\n\")\n",
        "\n",
        "      # Get the data\n",
        "      story_data = decode_data(path_ner, filename)\n",
        "      #print(story_data)\n",
        "\n",
        "      # Sentiment analysis pipeline\n",
        "      classifier = pipeline(\"sentiment-analysis\")\n",
        "\n",
        "      # Placeholder for output\n",
        "      output = []\n",
        "\n",
        "      # Run sentiment analysis for all the characters in the story\n",
        "      for character_data in story_data:\n",
        "        character_data.print_info()\n",
        "        print(\"Running sentiment analysis...\")\n",
        "        sentiment_analysis(classifier, character_data)\n",
        "        character_data.print_info()\n",
        "\n",
        "        # Add data to output\n",
        "        output.append(character_data.get_dict())\n",
        "\n",
        "      # Output to json\n",
        "      encode_data(path, filename, output)\n",
        "\n",
        "      # Plot the results\n",
        "      plot_data(story_data)\n",
        "    "
      ],
      "metadata": {
        "id": "r7Qp1XdRBNki"
      },
      "execution_count": 133,
      "outputs": []
    },
    {
      "cell_type": "code",
      "source": [
        " # imapbook execution \n",
        "path = \"/content/drive/MyDrive/NLP-Project/data/imapbook/\"\n",
        "\n",
        "main(path)"
      ],
      "metadata": {
        "colab": {
          "base_uri": "https://localhost:8080/",
          "height": 1000
        },
        "id": "n5KLRsgAZc6e",
        "outputId": "55949959-ce3f-493c-aad5-8bae5bf00cd3"
      },
      "execution_count": 138,
      "outputs": [
        {
          "output_type": "stream",
          "name": "stderr",
          "text": [
            "No model was supplied, defaulted to distilbert-base-uncased-finetuned-sst-2-english (https://huggingface.co/distilbert-base-uncased-finetuned-sst-2-english)\n"
          ]
        },
        {
          "output_type": "stream",
          "name": "stdout",
          "text": [
            "______________________________________________________________________________________________________________________________________________________\n",
            "The Lady or the Tiger Original.json\n",
            "______________________________________________________________________________________________________________________________________________________\n",
            "\n",
            "------------------------------------------------------------------------------------------------------------------------------------------------------\n",
            "Character name: frank\n",
            "Frequency in story: 1\n",
            "------------------------------------------------------------------------------------------------------------------------------------------------------\n",
            "Running sentiment analysis...\n",
            "------------------------------------------------------------------------------------------------------------------------------------------------------\n",
            "Character name: frank\n",
            "Frequency in story: 1\n",
            "Classified as NEGATIVE with average score of: 0.9873487949371338\n",
            "------------------------------------------------------------------------------------------------------------------------------------------------------\n",
            "------------------------------------------------------------------------------------------------------------------------------------------------------\n",
            "Character name: stockton\n",
            "Frequency in story: 1\n",
            "------------------------------------------------------------------------------------------------------------------------------------------------------\n",
            "Running sentiment analysis...\n",
            "------------------------------------------------------------------------------------------------------------------------------------------------------\n",
            "Character name: stockton\n",
            "Frequency in story: 1\n",
            "Classified as NEGATIVE with average score of: 0.9873487949371338\n",
            "------------------------------------------------------------------------------------------------------------------------------------------------------\n"
          ]
        },
        {
          "output_type": "display_data",
          "data": {
            "text/plain": [
              "<Figure size 432x288 with 1 Axes>"
            ],
            "image/png": "[encoded data removed]"
          },
          "metadata": {
            "needs_background": "light"
          }
        },
        {
          "output_type": "stream",
          "name": "stderr",
          "text": [
            "No model was supplied, defaulted to distilbert-base-uncased-finetuned-sst-2-english (https://huggingface.co/distilbert-base-uncased-finetuned-sst-2-english)\n"
          ]
        },
        {
          "output_type": "stream",
          "name": "stdout",
          "text": [
            "______________________________________________________________________________________________________________________________________________________\n",
            "Henry_Red_Chief.json\n",
            "______________________________________________________________________________________________________________________________________________________\n",
            "\n",
            "------------------------------------------------------------------------------------------------------------------------------------------------------\n",
            "Character name: dorset\n",
            "Frequency in story: 11\n",
            "------------------------------------------------------------------------------------------------------------------------------------------------------\n",
            "Running sentiment analysis...\n",
            "------------------------------------------------------------------------------------------------------------------------------------------------------\n",
            "Character name: dorset\n",
            "Frequency in story: 11\n",
            "Classified as NEGATIVE with average score of: 0.783493090759624\n",
            "------------------------------------------------------------------------------------------------------------------------------------------------------\n",
            "------------------------------------------------------------------------------------------------------------------------------------------------------\n",
            "Character name: sam\n",
            "Frequency in story: 12\n",
            "------------------------------------------------------------------------------------------------------------------------------------------------------\n",
            "Running sentiment analysis...\n",
            "------------------------------------------------------------------------------------------------------------------------------------------------------\n",
            "Character name: sam\n",
            "Frequency in story: 12\n",
            "Classified as POSITIVE with average score of: 0.4776884118715922\n",
            "------------------------------------------------------------------------------------------------------------------------------------------------------\n",
            "------------------------------------------------------------------------------------------------------------------------------------------------------\n",
            "Character name: scout\n",
            "Frequency in story: 7\n",
            "------------------------------------------------------------------------------------------------------------------------------------------------------\n",
            "Running sentiment analysis...\n",
            "------------------------------------------------------------------------------------------------------------------------------------------------------\n",
            "Character name: scout\n",
            "Frequency in story: 7\n",
            "Classified as POSITIVE with average score of: 0.6981536575726102\n",
            "------------------------------------------------------------------------------------------------------------------------------------------------------\n",
            "------------------------------------------------------------------------------------------------------------------------------------------------------\n",
            "Character name: ebenezer\n",
            "Frequency in story: 6\n",
            "------------------------------------------------------------------------------------------------------------------------------------------------------\n",
            "Running sentiment analysis...\n",
            "------------------------------------------------------------------------------------------------------------------------------------------------------\n",
            "Character name: ebenezer\n",
            "Frequency in story: 6\n",
            "Classified as NEGATIVE with average score of: 0.7806439300378164\n",
            "------------------------------------------------------------------------------------------------------------------------------------------------------\n"
          ]
        },
        {
          "output_type": "display_data",
          "data": {
            "text/plain": [
              "<Figure size 432x288 with 1 Axes>"
            ],
            "image/png": "[encoded data removed]"
          },
          "metadata": {
            "needs_background": "light"
          }
        },
        {
          "output_type": "stream",
          "name": "stderr",
          "text": [
            "No model was supplied, defaulted to distilbert-base-uncased-finetuned-sst-2-english (https://huggingface.co/distilbert-base-uncased-finetuned-sst-2-english)\n"
          ]
        },
        {
          "output_type": "stream",
          "name": "stdout",
          "text": [
            "______________________________________________________________________________________________________________________________________________________\n",
            "LeiningenVstheAnts.json\n",
            "______________________________________________________________________________________________________________________________________________________\n",
            "\n",
            "------------------------------------------------------------------------------------------------------------------------------------------------------\n",
            "Character name: carl\n",
            "Frequency in story: 1\n",
            "------------------------------------------------------------------------------------------------------------------------------------------------------\n",
            "Running sentiment analysis...\n",
            "------------------------------------------------------------------------------------------------------------------------------------------------------\n",
            "Character name: carl\n",
            "Frequency in story: 1\n",
            "Classified as NEGATIVE with average score of: 0.9975638389587402\n",
            "------------------------------------------------------------------------------------------------------------------------------------------------------\n",
            "------------------------------------------------------------------------------------------------------------------------------------------------------\n",
            "Character name: stephenson\n",
            "Frequency in story: 1\n",
            "------------------------------------------------------------------------------------------------------------------------------------------------------\n",
            "Running sentiment analysis...\n",
            "------------------------------------------------------------------------------------------------------------------------------------------------------\n",
            "Character name: stephenson\n",
            "Frequency in story: 1\n",
            "Classified as NEGATIVE with average score of: 0.9975638389587402\n",
            "------------------------------------------------------------------------------------------------------------------------------------------------------\n",
            "------------------------------------------------------------------------------------------------------------------------------------------------------\n",
            "Character name: bush\n",
            "Frequency in story: 1\n",
            "------------------------------------------------------------------------------------------------------------------------------------------------------\n",
            "Running sentiment analysis...\n",
            "------------------------------------------------------------------------------------------------------------------------------------------------------\n",
            "Character name: bush\n",
            "Frequency in story: 1\n",
            "Classified as NEGATIVE with average score of: 0.9830957055091858\n",
            "------------------------------------------------------------------------------------------------------------------------------------------------------\n",
            "------------------------------------------------------------------------------------------------------------------------------------------------------\n",
            "Character name: macbeth\n",
            "Frequency in story: 1\n",
            "------------------------------------------------------------------------------------------------------------------------------------------------------\n",
            "Running sentiment analysis...\n",
            "------------------------------------------------------------------------------------------------------------------------------------------------------\n",
            "Character name: macbeth\n",
            "Frequency in story: 1\n",
            "Classified as POSITIVE with average score of: 0.9806731939315796\n",
            "------------------------------------------------------------------------------------------------------------------------------------------------------\n"
          ]
        },
        {
          "output_type": "display_data",
          "data": {
            "text/plain": [
              "<Figure size 432x288 with 1 Axes>"
            ],
            "image/png": "[encoded data removed]"
          },
          "metadata": {
            "needs_background": "light"
          }
        },
        {
          "output_type": "stream",
          "name": "stderr",
          "text": [
            "No model was supplied, defaulted to distilbert-base-uncased-finetuned-sst-2-english (https://huggingface.co/distilbert-base-uncased-finetuned-sst-2-english)\n"
          ]
        },
        {
          "output_type": "stream",
          "name": "stdout",
          "text": [
            "______________________________________________________________________________________________________________________________________________________\n",
            "the_gift_of_the_magi_0_Henry.json\n",
            "______________________________________________________________________________________________________________________________________________________\n",
            "\n",
            "------------------------------------------------------------------------------------------------------------------------------------------------------\n",
            "Character name: jim\n",
            "Frequency in story: 26\n",
            "------------------------------------------------------------------------------------------------------------------------------------------------------\n",
            "Running sentiment analysis...\n",
            "------------------------------------------------------------------------------------------------------------------------------------------------------\n",
            "Character name: jim\n",
            "Frequency in story: 26\n",
            "Classified as POSITIVE with average score of: 0.49271239225681007\n",
            "------------------------------------------------------------------------------------------------------------------------------------------------------\n",
            "------------------------------------------------------------------------------------------------------------------------------------------------------\n",
            "Character name: james\n",
            "Frequency in story: 4\n",
            "------------------------------------------------------------------------------------------------------------------------------------------------------\n",
            "Running sentiment analysis...\n",
            "------------------------------------------------------------------------------------------------------------------------------------------------------\n",
            "Character name: james\n",
            "Frequency in story: 4\n",
            "Classified as POSITIVE with average score of: 0.4994807690382004\n",
            "------------------------------------------------------------------------------------------------------------------------------------------------------\n",
            "------------------------------------------------------------------------------------------------------------------------------------------------------\n",
            "Character name: dillingham\n",
            "Frequency in story: 4\n",
            "------------------------------------------------------------------------------------------------------------------------------------------------------\n",
            "Running sentiment analysis...\n",
            "------------------------------------------------------------------------------------------------------------------------------------------------------\n",
            "Character name: dillingham\n",
            "Frequency in story: 4\n",
            "Classified as POSITIVE with average score of: 0.4994807690382004\n",
            "------------------------------------------------------------------------------------------------------------------------------------------------------\n",
            "------------------------------------------------------------------------------------------------------------------------------------------------------\n",
            "Character name: magi\n",
            "Frequency in story: 4\n",
            "------------------------------------------------------------------------------------------------------------------------------------------------------\n",
            "Running sentiment analysis...\n",
            "------------------------------------------------------------------------------------------------------------------------------------------------------\n",
            "Character name: magi\n",
            "Frequency in story: 4\n",
            "Classified as POSITIVE with average score of: 0.4552137404680252\n",
            "------------------------------------------------------------------------------------------------------------------------------------------------------\n"
          ]
        },
        {
          "output_type": "display_data",
          "data": {
            "text/plain": [
              "<Figure size 432x288 with 1 Axes>"
            ],
            "image/png": "[encoded data removed]"
          },
          "metadata": {
            "needs_background": "light"
          }
        },
        {
          "output_type": "stream",
          "name": "stderr",
          "text": [
            "No model was supplied, defaulted to distilbert-base-uncased-finetuned-sst-2-english (https://huggingface.co/distilbert-base-uncased-finetuned-sst-2-english)\n"
          ]
        },
        {
          "output_type": "stream",
          "name": "stdout",
          "text": [
            "______________________________________________________________________________________________________________________________________________________\n",
            "The Most Dangerous Game.json\n",
            "______________________________________________________________________________________________________________________________________________________\n",
            "\n",
            "------------------------------------------------------------------------------------------------------------------------------------------------------\n",
            "Character name: rainsford\n",
            "Frequency in story: 130\n",
            "------------------------------------------------------------------------------------------------------------------------------------------------------\n",
            "Running sentiment analysis...\n",
            "------------------------------------------------------------------------------------------------------------------------------------------------------\n",
            "Character name: rainsford\n",
            "Frequency in story: 130\n",
            "Classified as POSITIVE with average score of: 0.6191131651401521\n",
            "------------------------------------------------------------------------------------------------------------------------------------------------------\n",
            "------------------------------------------------------------------------------------------------------------------------------------------------------\n",
            "Character name: zaroff\n",
            "Frequency in story: 20\n",
            "------------------------------------------------------------------------------------------------------------------------------------------------------\n",
            "Running sentiment analysis...\n",
            "------------------------------------------------------------------------------------------------------------------------------------------------------\n",
            "Character name: zaroff\n",
            "Frequency in story: 20\n",
            "Classified as POSITIVE with average score of: 0.6292778164148332\n",
            "------------------------------------------------------------------------------------------------------------------------------------------------------\n",
            "------------------------------------------------------------------------------------------------------------------------------------------------------\n",
            "Character name: ivan\n",
            "Frequency in story: 14\n",
            "------------------------------------------------------------------------------------------------------------------------------------------------------\n",
            "Running sentiment analysis...\n",
            "------------------------------------------------------------------------------------------------------------------------------------------------------\n",
            "Character name: ivan\n",
            "Frequency in story: 14\n",
            "Classified as POSITIVE with average score of: 0.5872112342289516\n",
            "------------------------------------------------------------------------------------------------------------------------------------------------------\n",
            "------------------------------------------------------------------------------------------------------------------------------------------------------\n",
            "Character name: whitney\n",
            "Frequency in story: 9\n",
            "------------------------------------------------------------------------------------------------------------------------------------------------------\n",
            "Running sentiment analysis...\n",
            "------------------------------------------------------------------------------------------------------------------------------------------------------\n",
            "Character name: whitney\n",
            "Frequency in story: 9\n",
            "Classified as POSITIVE with average score of: 0.8335701690779792\n",
            "------------------------------------------------------------------------------------------------------------------------------------------------------\n"
          ]
        },
        {
          "output_type": "display_data",
          "data": {
            "text/plain": [
              "<Figure size 432x288 with 1 Axes>"
            ],
            "image/png": "[encoded data removed]"
          },
          "metadata": {
            "needs_background": "light"
          }
        },
        {
          "output_type": "stream",
          "name": "stderr",
          "text": [
            "No model was supplied, defaulted to distilbert-base-uncased-finetuned-sst-2-english (https://huggingface.co/distilbert-base-uncased-finetuned-sst-2-english)\n"
          ]
        },
        {
          "output_type": "stream",
          "name": "stdout",
          "text": [
            "______________________________________________________________________________________________________________________________________________________\n",
            "Hills Like White Elephants.json\n",
            "______________________________________________________________________________________________________________________________________________________\n",
            "\n",
            "------------------------------------------------------------------------------------------------------------------------------------------------------\n",
            "Character name: ernest\n",
            "Frequency in story: 2\n",
            "------------------------------------------------------------------------------------------------------------------------------------------------------\n",
            "Running sentiment analysis...\n",
            "------------------------------------------------------------------------------------------------------------------------------------------------------\n",
            "Character name: ernest\n",
            "Frequency in story: 2\n",
            "Classified as POSITIVE with average score of: 0.496279776096344\n",
            "------------------------------------------------------------------------------------------------------------------------------------------------------\n",
            "------------------------------------------------------------------------------------------------------------------------------------------------------\n",
            "Character name: hemingway\n",
            "Frequency in story: 2\n",
            "------------------------------------------------------------------------------------------------------------------------------------------------------\n",
            "Running sentiment analysis...\n",
            "------------------------------------------------------------------------------------------------------------------------------------------------------\n",
            "Character name: hemingway\n",
            "Frequency in story: 2\n",
            "Classified as POSITIVE with average score of: 0.496279776096344\n",
            "------------------------------------------------------------------------------------------------------------------------------------------------------\n",
            "------------------------------------------------------------------------------------------------------------------------------------------------------\n",
            "Character name: jig\n",
            "Frequency in story: 2\n",
            "------------------------------------------------------------------------------------------------------------------------------------------------------\n",
            "Running sentiment analysis...\n",
            "------------------------------------------------------------------------------------------------------------------------------------------------------\n",
            "Character name: jig\n",
            "Frequency in story: 2\n",
            "Classified as NEGATIVE with average score of: 0.9849984347820282\n",
            "------------------------------------------------------------------------------------------------------------------------------------------------------\n"
          ]
        },
        {
          "output_type": "display_data",
          "data": {
            "text/plain": [
              "<Figure size 432x288 with 1 Axes>"
            ],
            "image/png": "[encoded data removed]"
          },
          "metadata": {
            "needs_background": "light"
          }
        },
        {
          "output_type": "stream",
          "name": "stderr",
          "text": [
            "No model was supplied, defaulted to distilbert-base-uncased-finetuned-sst-2-english (https://huggingface.co/distilbert-base-uncased-finetuned-sst-2-english)\n"
          ]
        },
        {
          "output_type": "stream",
          "name": "stdout",
          "text": [
            "______________________________________________________________________________________________________________________________________________________\n",
            "The Tell Tale Heart.json\n",
            "______________________________________________________________________________________________________________________________________________________\n",
            "\n",
            "------------------------------------------------------------------------------------------------------------------------------------------------------\n",
            "Character name: edgar\n",
            "Frequency in story: 1\n",
            "------------------------------------------------------------------------------------------------------------------------------------------------------\n",
            "Running sentiment analysis...\n",
            "------------------------------------------------------------------------------------------------------------------------------------------------------\n",
            "Character name: edgar\n",
            "Frequency in story: 1\n",
            "Classified as POSITIVE with average score of: 0.9997281432151794\n",
            "------------------------------------------------------------------------------------------------------------------------------------------------------\n",
            "------------------------------------------------------------------------------------------------------------------------------------------------------\n",
            "Character name: allan\n",
            "Frequency in story: 1\n",
            "------------------------------------------------------------------------------------------------------------------------------------------------------\n",
            "Running sentiment analysis...\n",
            "------------------------------------------------------------------------------------------------------------------------------------------------------\n",
            "Character name: allan\n",
            "Frequency in story: 1\n",
            "Classified as POSITIVE with average score of: 0.9997281432151794\n",
            "------------------------------------------------------------------------------------------------------------------------------------------------------\n",
            "------------------------------------------------------------------------------------------------------------------------------------------------------\n",
            "Character name: poe\n",
            "Frequency in story: 1\n",
            "------------------------------------------------------------------------------------------------------------------------------------------------------\n",
            "Running sentiment analysis...\n",
            "------------------------------------------------------------------------------------------------------------------------------------------------------\n",
            "Character name: poe\n",
            "Frequency in story: 1\n",
            "Classified as POSITIVE with average score of: 0.9997281432151794\n",
            "------------------------------------------------------------------------------------------------------------------------------------------------------\n"
          ]
        },
        {
          "output_type": "display_data",
          "data": {
            "text/plain": [
              "<Figure size 432x288 with 1 Axes>"
            ],
            "image/png": "[encoded data removed]"
          },
          "metadata": {
            "needs_background": "light"
          }
        }
      ]
    },
    {
      "cell_type": "code",
      "source": [
        "# gutenberg execution\n",
        "path = \"/content/drive/MyDrive/NLP-Project/data/gutenberg/\"\n",
        "\n",
        "main(path)"
      ],
      "metadata": {
        "colab": {
          "base_uri": "https://localhost:8080/",
          "height": 1000
        },
        "id": "nEXKoVIZZsIY",
        "outputId": "3777be92-556e-49eb-f46b-5927d9cdbc99"
      },
      "execution_count": 139,
      "outputs": [
        {
          "output_type": "stream",
          "name": "stderr",
          "text": [
            "No model was supplied, defaulted to distilbert-base-uncased-finetuned-sst-2-english (https://huggingface.co/distilbert-base-uncased-finetuned-sst-2-english)\n"
          ]
        },
        {
          "output_type": "stream",
          "name": "stdout",
          "text": [
            "______________________________________________________________________________________________________________________________________________________\n",
            "Howard_TheDevilinIron.json\n",
            "______________________________________________________________________________________________________________________________________________________\n",
            "\n",
            "------------------------------------------------------------------------------------------------------------------------------------------------------\n",
            "Character name: conan\n",
            "Frequency in story: 73\n",
            "------------------------------------------------------------------------------------------------------------------------------------------------------\n",
            "Running sentiment analysis...\n",
            "------------------------------------------------------------------------------------------------------------------------------------------------------\n",
            "Character name: conan\n",
            "Frequency in story: 73\n",
            "Classified as POSITIVE with average score of: 0.486595679635871\n",
            "------------------------------------------------------------------------------------------------------------------------------------------------------\n",
            "------------------------------------------------------------------------------------------------------------------------------------------------------\n",
            "Character name: jehungir\n",
            "Frequency in story: 29\n",
            "------------------------------------------------------------------------------------------------------------------------------------------------------\n",
            "Running sentiment analysis...\n",
            "------------------------------------------------------------------------------------------------------------------------------------------------------\n",
            "Character name: jehungir\n",
            "Frequency in story: 29\n",
            "Classified as NEGATIVE with average score of: 0.5529729395077145\n",
            "------------------------------------------------------------------------------------------------------------------------------------------------------\n",
            "------------------------------------------------------------------------------------------------------------------------------------------------------\n",
            "Character name: octavia\n",
            "Frequency in story: 17\n",
            "------------------------------------------------------------------------------------------------------------------------------------------------------\n",
            "Running sentiment analysis...\n",
            "------------------------------------------------------------------------------------------------------------------------------------------------------\n",
            "Character name: octavia\n",
            "Frequency in story: 17\n",
            "Classified as NEGATIVE with average score of: 0.4732876665451947\n",
            "------------------------------------------------------------------------------------------------------------------------------------------------------\n",
            "------------------------------------------------------------------------------------------------------------------------------------------------------\n",
            "Character name: ghaznavi\n",
            "Frequency in story: 12\n",
            "------------------------------------------------------------------------------------------------------------------------------------------------------\n",
            "Running sentiment analysis...\n",
            "------------------------------------------------------------------------------------------------------------------------------------------------------\n",
            "Character name: ghaznavi\n",
            "Frequency in story: 12\n",
            "Classified as NEGATIVE with average score of: 0.5104228506485621\n",
            "------------------------------------------------------------------------------------------------------------------------------------------------------\n"
          ]
        },
        {
          "output_type": "display_data",
          "data": {
            "text/plain": [
              "<Figure size 432x288 with 1 Axes>"
            ],
            "image/png": "[encoded data removed]"
          },
          "metadata": {
            "needs_background": "light"
          }
        },
        {
          "output_type": "stream",
          "name": "stderr",
          "text": [
            "No model was supplied, defaulted to distilbert-base-uncased-finetuned-sst-2-english (https://huggingface.co/distilbert-base-uncased-finetuned-sst-2-english)\n"
          ]
        },
        {
          "output_type": "stream",
          "name": "stdout",
          "text": [
            "______________________________________________________________________________________________________________________________________________________\n",
            "Howard_ShadowsintheMoonlight.json\n",
            "______________________________________________________________________________________________________________________________________________________\n",
            "\n",
            "------------------------------------------------------------------------------------------------------------------------------------------------------\n",
            "Character name: conan\n",
            "Frequency in story: 78\n",
            "------------------------------------------------------------------------------------------------------------------------------------------------------\n",
            "Running sentiment analysis...\n",
            "------------------------------------------------------------------------------------------------------------------------------------------------------\n",
            "Character name: conan\n",
            "Frequency in story: 78\n",
            "Classified as NEGATIVE with average score of: 0.4834871490796407\n",
            "------------------------------------------------------------------------------------------------------------------------------------------------------\n",
            "------------------------------------------------------------------------------------------------------------------------------------------------------\n",
            "Character name: olivia\n",
            "Frequency in story: 56\n",
            "------------------------------------------------------------------------------------------------------------------------------------------------------\n",
            "Running sentiment analysis...\n",
            "------------------------------------------------------------------------------------------------------------------------------------------------------\n",
            "Character name: olivia\n",
            "Frequency in story: 56\n",
            "Classified as POSITIVE with average score of: 0.529140439416681\n",
            "------------------------------------------------------------------------------------------------------------------------------------------------------\n",
            "------------------------------------------------------------------------------------------------------------------------------------------------------\n",
            "Character name: cimmerian\n",
            "Frequency in story: 25\n",
            "------------------------------------------------------------------------------------------------------------------------------------------------------\n",
            "Running sentiment analysis...\n",
            "------------------------------------------------------------------------------------------------------------------------------------------------------\n",
            "Character name: cimmerian\n",
            "Frequency in story: 25\n",
            "Classified as NEGATIVE with average score of: 0.5850814461708069\n",
            "------------------------------------------------------------------------------------------------------------------------------------------------------\n",
            "------------------------------------------------------------------------------------------------------------------------------------------------------\n",
            "Character name: shah\n",
            "Frequency in story: 11\n",
            "------------------------------------------------------------------------------------------------------------------------------------------------------\n",
            "Running sentiment analysis...\n",
            "------------------------------------------------------------------------------------------------------------------------------------------------------\n",
            "Character name: shah\n",
            "Frequency in story: 11\n",
            "Classified as NEGATIVE with average score of: 0.6560031175613404\n",
            "------------------------------------------------------------------------------------------------------------------------------------------------------\n"
          ]
        },
        {
          "output_type": "display_data",
          "data": {
            "text/plain": [
              "<Figure size 432x288 with 1 Axes>"
            ],
            "image/png": "[encoded data removed]"
          },
          "metadata": {
            "needs_background": "light"
          }
        },
        {
          "output_type": "stream",
          "name": "stderr",
          "text": [
            "No model was supplied, defaulted to distilbert-base-uncased-finetuned-sst-2-english (https://huggingface.co/distilbert-base-uncased-finetuned-sst-2-english)\n"
          ]
        },
        {
          "output_type": "stream",
          "name": "stdout",
          "text": [
            "______________________________________________________________________________________________________________________________________________________\n",
            "Howard_SchadowsinZamboula.json\n",
            "______________________________________________________________________________________________________________________________________________________\n",
            "\n",
            "------------------------------------------------------------------------------------------------------------------------------------------------------\n",
            "Character name: conan\n",
            "Frequency in story: 116\n",
            "------------------------------------------------------------------------------------------------------------------------------------------------------\n",
            "Running sentiment analysis...\n",
            "------------------------------------------------------------------------------------------------------------------------------------------------------\n",
            "Character name: conan\n",
            "Frequency in story: 116\n",
            "Classified as NEGATIVE with average score of: 0.48842800691209975\n",
            "------------------------------------------------------------------------------------------------------------------------------------------------------\n",
            "------------------------------------------------------------------------------------------------------------------------------------------------------\n",
            "Character name: aram\n",
            "Frequency in story: 37\n",
            "------------------------------------------------------------------------------------------------------------------------------------------------------\n",
            "Running sentiment analysis...\n",
            "------------------------------------------------------------------------------------------------------------------------------------------------------\n",
            "Character name: aram\n",
            "Frequency in story: 37\n",
            "Classified as NEGATIVE with average score of: 0.6929238954105892\n",
            "------------------------------------------------------------------------------------------------------------------------------------------------------\n",
            "------------------------------------------------------------------------------------------------------------------------------------------------------\n",
            "Character name: cimmerian\n",
            "Frequency in story: 26\n",
            "------------------------------------------------------------------------------------------------------------------------------------------------------\n",
            "Running sentiment analysis...\n",
            "------------------------------------------------------------------------------------------------------------------------------------------------------\n",
            "Character name: cimmerian\n",
            "Frequency in story: 26\n",
            "Classified as POSITIVE with average score of: 0.554057084597074\n",
            "------------------------------------------------------------------------------------------------------------------------------------------------------\n",
            "------------------------------------------------------------------------------------------------------------------------------------------------------\n",
            "Character name: baksh\n",
            "Frequency in story: 26\n",
            "------------------------------------------------------------------------------------------------------------------------------------------------------\n",
            "Running sentiment analysis...\n",
            "------------------------------------------------------------------------------------------------------------------------------------------------------\n",
            "Character name: baksh\n",
            "Frequency in story: 26\n",
            "Classified as NEGATIVE with average score of: 0.6837696754015411\n",
            "------------------------------------------------------------------------------------------------------------------------------------------------------\n"
          ]
        },
        {
          "output_type": "display_data",
          "data": {
            "text/plain": [
              "<Figure size 432x288 with 1 Axes>"
            ],
            "image/png": "[encoded data removed]"
          },
          "metadata": {
            "needs_background": "light"
          }
        },
        {
          "output_type": "stream",
          "name": "stdout",
          "text": [
            "______________________________________________________________________________________________________________________________________________________\n",
            "Doyle_TheSignoftheFour.json\n",
            "______________________________________________________________________________________________________________________________________________________\n",
            "\n"
          ]
        },
        {
          "output_type": "stream",
          "name": "stderr",
          "text": [
            "No model was supplied, defaulted to distilbert-base-uncased-finetuned-sst-2-english (https://huggingface.co/distilbert-base-uncased-finetuned-sst-2-english)\n"
          ]
        },
        {
          "output_type": "stream",
          "name": "stdout",
          "text": [
            "------------------------------------------------------------------------------------------------------------------------------------------------------\n",
            "Character name: holmes\n",
            "Frequency in story: 133\n",
            "------------------------------------------------------------------------------------------------------------------------------------------------------\n",
            "Running sentiment analysis...\n",
            "------------------------------------------------------------------------------------------------------------------------------------------------------\n",
            "Character name: holmes\n",
            "Frequency in story: 133\n",
            "Classified as POSITIVE with average score of: 0.5349463645676923\n",
            "------------------------------------------------------------------------------------------------------------------------------------------------------\n",
            "------------------------------------------------------------------------------------------------------------------------------------------------------\n",
            "Character name: sholto\n",
            "Frequency in story: 75\n",
            "------------------------------------------------------------------------------------------------------------------------------------------------------\n",
            "Running sentiment analysis...\n",
            "------------------------------------------------------------------------------------------------------------------------------------------------------\n",
            "Character name: sholto\n",
            "Frequency in story: 75\n",
            "Classified as NEGATIVE with average score of: 0.5215651241938273\n",
            "------------------------------------------------------------------------------------------------------------------------------------------------------\n",
            "------------------------------------------------------------------------------------------------------------------------------------------------------\n",
            "Character name: morstan\n",
            "Frequency in story: 69\n",
            "------------------------------------------------------------------------------------------------------------------------------------------------------\n",
            "Running sentiment analysis...\n",
            "------------------------------------------------------------------------------------------------------------------------------------------------------\n",
            "Character name: morstan\n",
            "Frequency in story: 69\n",
            "Classified as POSITIVE with average score of: 0.4858794981154844\n",
            "------------------------------------------------------------------------------------------------------------------------------------------------------\n",
            "------------------------------------------------------------------------------------------------------------------------------------------------------\n",
            "Character name: jones\n",
            "Frequency in story: 44\n",
            "------------------------------------------------------------------------------------------------------------------------------------------------------\n",
            "Running sentiment analysis...\n",
            "------------------------------------------------------------------------------------------------------------------------------------------------------\n",
            "Character name: jones\n",
            "Frequency in story: 44\n",
            "Classified as POSITIVE with average score of: 0.5644222376021472\n",
            "------------------------------------------------------------------------------------------------------------------------------------------------------\n"
          ]
        },
        {
          "output_type": "display_data",
          "data": {
            "text/plain": [
              "<Figure size 432x288 with 1 Axes>"
            ],
            "image/png": "[encoded data removed]"
          },
          "metadata": {
            "needs_background": "light"
          }
        },
        {
          "output_type": "stream",
          "name": "stdout",
          "text": [
            "______________________________________________________________________________________________________________________________________________________\n",
            "Kipling_TheJungleBook.json\n",
            "______________________________________________________________________________________________________________________________________________________\n",
            "\n"
          ]
        },
        {
          "output_type": "stream",
          "name": "stderr",
          "text": [
            "No model was supplied, defaulted to distilbert-base-uncased-finetuned-sst-2-english (https://huggingface.co/distilbert-base-uncased-finetuned-sst-2-english)\n"
          ]
        },
        {
          "output_type": "stream",
          "name": "stdout",
          "text": [
            "------------------------------------------------------------------------------------------------------------------------------------------------------\n",
            "Character name: mowgli\n",
            "Frequency in story: 205\n",
            "------------------------------------------------------------------------------------------------------------------------------------------------------\n",
            "Running sentiment analysis...\n",
            "------------------------------------------------------------------------------------------------------------------------------------------------------\n",
            "Character name: mowgli\n",
            "Frequency in story: 205\n",
            "Classified as NEGATIVE with average score of: 0.6681175999525117\n",
            "------------------------------------------------------------------------------------------------------------------------------------------------------\n",
            "------------------------------------------------------------------------------------------------------------------------------------------------------\n",
            "Character name: bagheera\n",
            "Frequency in story: 125\n",
            "------------------------------------------------------------------------------------------------------------------------------------------------------\n",
            "Running sentiment analysis...\n",
            "------------------------------------------------------------------------------------------------------------------------------------------------------\n",
            "Character name: bagheera\n",
            "Frequency in story: 125\n",
            "Classified as NEGATIVE with average score of: 0.5725425386428833\n",
            "------------------------------------------------------------------------------------------------------------------------------------------------------\n",
            "------------------------------------------------------------------------------------------------------------------------------------------------------\n",
            "Character name: rikki\n",
            "Frequency in story: 12\n",
            "------------------------------------------------------------------------------------------------------------------------------------------------------\n",
            "Running sentiment analysis...\n",
            "------------------------------------------------------------------------------------------------------------------------------------------------------\n",
            "Character name: rikki\n",
            "Frequency in story: 12\n",
            "Classified as POSITIVE with average score of: 0.5769823243220646\n",
            "------------------------------------------------------------------------------------------------------------------------------------------------------\n",
            "------------------------------------------------------------------------------------------------------------------------------------------------------\n",
            "Character name: nag\n",
            "Frequency in story: 104\n",
            "------------------------------------------------------------------------------------------------------------------------------------------------------\n",
            "Running sentiment analysis...\n",
            "------------------------------------------------------------------------------------------------------------------------------------------------------\n",
            "Character name: nag\n",
            "Frequency in story: 104\n",
            "Classified as NEGATIVE with average score of: 0.6823447455580421\n",
            "------------------------------------------------------------------------------------------------------------------------------------------------------\n"
          ]
        },
        {
          "output_type": "display_data",
          "data": {
            "text/plain": [
              "<Figure size 432x288 with 1 Axes>"
            ],
            "image/png": "[encoded data removed]"
          },
          "metadata": {
            "needs_background": "light"
          }
        },
        {
          "output_type": "stream",
          "name": "stdout",
          "text": [
            "______________________________________________________________________________________________________________________________________________________\n",
            "Doyle_TheHoundoftheBaskervilles.json\n",
            "______________________________________________________________________________________________________________________________________________________\n",
            "\n"
          ]
        },
        {
          "output_type": "stream",
          "name": "stderr",
          "text": [
            "No model was supplied, defaulted to distilbert-base-uncased-finetuned-sst-2-english (https://huggingface.co/distilbert-base-uncased-finetuned-sst-2-english)\n"
          ]
        },
        {
          "output_type": "stream",
          "name": "stdout",
          "text": [
            "------------------------------------------------------------------------------------------------------------------------------------------------------\n",
            "Character name: holmes\n",
            "Frequency in story: 191\n",
            "------------------------------------------------------------------------------------------------------------------------------------------------------\n",
            "Running sentiment analysis...\n",
            "------------------------------------------------------------------------------------------------------------------------------------------------------\n",
            "Character name: holmes\n",
            "Frequency in story: 191\n",
            "Classified as POSITIVE with average score of: 0.5572636929482069\n",
            "------------------------------------------------------------------------------------------------------------------------------------------------------\n",
            "------------------------------------------------------------------------------------------------------------------------------------------------------\n",
            "Character name: henry\n",
            "Frequency in story: 156\n",
            "------------------------------------------------------------------------------------------------------------------------------------------------------\n",
            "Running sentiment analysis...\n",
            "------------------------------------------------------------------------------------------------------------------------------------------------------\n",
            "Character name: henry\n",
            "Frequency in story: 156\n",
            "Classified as POSITIVE with average score of: 0.5254957347344129\n",
            "------------------------------------------------------------------------------------------------------------------------------------------------------\n",
            "------------------------------------------------------------------------------------------------------------------------------------------------------\n",
            "Character name: baskerville\n",
            "Frequency in story: 112\n",
            "------------------------------------------------------------------------------------------------------------------------------------------------------\n",
            "Running sentiment analysis...\n",
            "------------------------------------------------------------------------------------------------------------------------------------------------------\n",
            "Character name: baskerville\n",
            "Frequency in story: 112\n",
            "Classified as POSITIVE with average score of: 0.5746802219322747\n",
            "------------------------------------------------------------------------------------------------------------------------------------------------------\n",
            "------------------------------------------------------------------------------------------------------------------------------------------------------\n",
            "Character name: watson\n",
            "Frequency in story: 114\n",
            "------------------------------------------------------------------------------------------------------------------------------------------------------\n",
            "Running sentiment analysis...\n",
            "------------------------------------------------------------------------------------------------------------------------------------------------------\n",
            "Character name: watson\n",
            "Frequency in story: 114\n",
            "Classified as POSITIVE with average score of: 0.4917455216248829\n",
            "------------------------------------------------------------------------------------------------------------------------------------------------------\n"
          ]
        },
        {
          "output_type": "display_data",
          "data": {
            "text/plain": [
              "<Figure size 432x288 with 1 Axes>"
            ],
            "image/png": "[encoded data removed]"
          },
          "metadata": {
            "needs_background": "light"
          }
        },
        {
          "output_type": "stream",
          "name": "stdout",
          "text": [
            "______________________________________________________________________________________________________________________________________________________\n",
            "Lovecraft_TheCallofCthulu.json\n",
            "______________________________________________________________________________________________________________________________________________________\n",
            "\n"
          ]
        },
        {
          "output_type": "stream",
          "name": "stderr",
          "text": [
            "No model was supplied, defaulted to distilbert-base-uncased-finetuned-sst-2-english (https://huggingface.co/distilbert-base-uncased-finetuned-sst-2-english)\n"
          ]
        },
        {
          "output_type": "stream",
          "name": "stdout",
          "text": [
            "------------------------------------------------------------------------------------------------------------------------------------------------------\n",
            "Character name: johansen\n",
            "Frequency in story: 27\n",
            "------------------------------------------------------------------------------------------------------------------------------------------------------\n",
            "Running sentiment analysis...\n",
            "------------------------------------------------------------------------------------------------------------------------------------------------------\n",
            "Character name: johansen\n",
            "Frequency in story: 27\n",
            "Classified as NEGATIVE with average score of: 0.6109546709943701\n",
            "------------------------------------------------------------------------------------------------------------------------------------------------------\n",
            "------------------------------------------------------------------------------------------------------------------------------------------------------\n",
            "Character name: wilcox\n",
            "Frequency in story: 24\n",
            "------------------------------------------------------------------------------------------------------------------------------------------------------\n",
            "Running sentiment analysis...\n",
            "------------------------------------------------------------------------------------------------------------------------------------------------------\n",
            "Character name: wilcox\n",
            "Frequency in story: 24\n",
            "Classified as NEGATIVE with average score of: 0.6532644232114155\n",
            "------------------------------------------------------------------------------------------------------------------------------------------------------\n",
            "------------------------------------------------------------------------------------------------------------------------------------------------------\n",
            "Character name: legrasse\n",
            "Frequency in story: 23\n",
            "------------------------------------------------------------------------------------------------------------------------------------------------------\n",
            "Running sentiment analysis...\n",
            "------------------------------------------------------------------------------------------------------------------------------------------------------\n",
            "Character name: legrasse\n",
            "Frequency in story: 23\n",
            "Classified as POSITIVE with average score of: 0.5210807038390118\n",
            "------------------------------------------------------------------------------------------------------------------------------------------------------\n",
            "------------------------------------------------------------------------------------------------------------------------------------------------------\n",
            "Character name: angell\n",
            "Frequency in story: 15\n",
            "------------------------------------------------------------------------------------------------------------------------------------------------------\n",
            "Running sentiment analysis...\n",
            "------------------------------------------------------------------------------------------------------------------------------------------------------\n",
            "Character name: angell\n",
            "Frequency in story: 15\n",
            "Classified as NEGATIVE with average score of: 0.6236544211705527\n",
            "------------------------------------------------------------------------------------------------------------------------------------------------------\n"
          ]
        },
        {
          "output_type": "display_data",
          "data": {
            "text/plain": [
              "<Figure size 432x288 with 1 Axes>"
            ],
            "image/png": "[encoded data removed]"
          },
          "metadata": {
            "needs_background": "light"
          }
        },
        {
          "output_type": "stream",
          "name": "stdout",
          "text": [
            "______________________________________________________________________________________________________________________________________________________\n",
            "Lovecraft_TheShunnedHouse.json\n",
            "______________________________________________________________________________________________________________________________________________________\n",
            "\n"
          ]
        },
        {
          "output_type": "stream",
          "name": "stderr",
          "text": [
            "No model was supplied, defaulted to distilbert-base-uncased-finetuned-sst-2-english (https://huggingface.co/distilbert-base-uncased-finetuned-sst-2-english)\n"
          ]
        },
        {
          "output_type": "stream",
          "name": "stdout",
          "text": [
            "------------------------------------------------------------------------------------------------------------------------------------------------------\n",
            "Character name: harris\n",
            "Frequency in story: 32\n",
            "------------------------------------------------------------------------------------------------------------------------------------------------------\n",
            "Running sentiment analysis...\n",
            "------------------------------------------------------------------------------------------------------------------------------------------------------\n",
            "Character name: harris\n",
            "Frequency in story: 32\n",
            "Classified as NEGATIVE with average score of: 0.5863212663680315\n",
            "------------------------------------------------------------------------------------------------------------------------------------------------------\n",
            "------------------------------------------------------------------------------------------------------------------------------------------------------\n",
            "Character name: mercy\n",
            "Frequency in story: 11\n",
            "------------------------------------------------------------------------------------------------------------------------------------------------------\n",
            "Running sentiment analysis...\n",
            "------------------------------------------------------------------------------------------------------------------------------------------------------\n",
            "Character name: mercy\n",
            "Frequency in story: 11\n",
            "Classified as NEGATIVE with average score of: 0.8074398799376055\n",
            "------------------------------------------------------------------------------------------------------------------------------------------------------\n",
            "------------------------------------------------------------------------------------------------------------------------------------------------------\n",
            "Character name: william\n",
            "Frequency in story: 7\n",
            "------------------------------------------------------------------------------------------------------------------------------------------------------\n",
            "Running sentiment analysis...\n",
            "------------------------------------------------------------------------------------------------------------------------------------------------------\n",
            "Character name: william\n",
            "Frequency in story: 7\n",
            "Classified as POSITIVE with average score of: 0.5640251551355635\n",
            "------------------------------------------------------------------------------------------------------------------------------------------------------\n",
            "------------------------------------------------------------------------------------------------------------------------------------------------------\n",
            "Character name: carrington\n",
            "Frequency in story: 7\n",
            "------------------------------------------------------------------------------------------------------------------------------------------------------\n",
            "Running sentiment analysis...\n",
            "------------------------------------------------------------------------------------------------------------------------------------------------------\n",
            "Character name: carrington\n",
            "Frequency in story: 7\n",
            "Classified as NEGATIVE with average score of: 0.8527211972645351\n",
            "------------------------------------------------------------------------------------------------------------------------------------------------------\n"
          ]
        },
        {
          "output_type": "display_data",
          "data": {
            "text/plain": [
              "<Figure size 432x288 with 1 Axes>"
            ],
            "image/png": "[encoded data removed]"
          },
          "metadata": {
            "needs_background": "light"
          }
        },
        {
          "output_type": "stream",
          "name": "stdout",
          "text": [
            "______________________________________________________________________________________________________________________________________________________\n",
            "Doyle_AStudyinScarlet.json\n",
            "______________________________________________________________________________________________________________________________________________________\n",
            "\n"
          ]
        },
        {
          "output_type": "stream",
          "name": "stderr",
          "text": [
            "No model was supplied, defaulted to distilbert-base-uncased-finetuned-sst-2-english (https://huggingface.co/distilbert-base-uncased-finetuned-sst-2-english)\n"
          ]
        },
        {
          "output_type": "stream",
          "name": "stdout",
          "text": [
            "------------------------------------------------------------------------------------------------------------------------------------------------------\n",
            "Character name: holmes\n",
            "Frequency in story: 97\n",
            "------------------------------------------------------------------------------------------------------------------------------------------------------\n",
            "Running sentiment analysis...\n",
            "------------------------------------------------------------------------------------------------------------------------------------------------------\n",
            "Character name: holmes\n",
            "Frequency in story: 97\n",
            "Classified as POSITIVE with average score of: 0.5821050940100679\n",
            "------------------------------------------------------------------------------------------------------------------------------------------------------\n",
            "------------------------------------------------------------------------------------------------------------------------------------------------------\n",
            "Character name: drebber\n",
            "Frequency in story: 62\n",
            "------------------------------------------------------------------------------------------------------------------------------------------------------\n",
            "Running sentiment analysis...\n",
            "------------------------------------------------------------------------------------------------------------------------------------------------------\n",
            "Character name: drebber\n",
            "Frequency in story: 62\n",
            "Classified as NEGATIVE with average score of: 0.6383493879149036\n",
            "------------------------------------------------------------------------------------------------------------------------------------------------------\n",
            "------------------------------------------------------------------------------------------------------------------------------------------------------\n",
            "Character name: ferrier\n",
            "Frequency in story: 61\n",
            "------------------------------------------------------------------------------------------------------------------------------------------------------\n",
            "Running sentiment analysis...\n",
            "------------------------------------------------------------------------------------------------------------------------------------------------------\n",
            "Character name: ferrier\n",
            "Frequency in story: 61\n",
            "Classified as NEGATIVE with average score of: 0.5333478509402666\n",
            "------------------------------------------------------------------------------------------------------------------------------------------------------\n",
            "------------------------------------------------------------------------------------------------------------------------------------------------------\n",
            "Character name: sherlock\n",
            "Frequency in story: 51\n",
            "------------------------------------------------------------------------------------------------------------------------------------------------------\n",
            "Running sentiment analysis...\n",
            "------------------------------------------------------------------------------------------------------------------------------------------------------\n",
            "Character name: sherlock\n",
            "Frequency in story: 51\n",
            "Classified as POSITIVE with average score of: 0.5616893113828172\n",
            "------------------------------------------------------------------------------------------------------------------------------------------------------\n"
          ]
        },
        {
          "output_type": "display_data",
          "data": {
            "text/plain": [
              "<Figure size 432x288 with 1 Axes>"
            ],
            "image/png": "[encoded data removed]"
          },
          "metadata": {
            "needs_background": "light"
          }
        },
        {
          "output_type": "stream",
          "name": "stdout",
          "text": [
            "______________________________________________________________________________________________________________________________________________________\n",
            "Kipling_ThyServantaDog.json\n",
            "______________________________________________________________________________________________________________________________________________________\n",
            "\n"
          ]
        },
        {
          "output_type": "stream",
          "name": "stderr",
          "text": [
            "No model was supplied, defaulted to distilbert-base-uncased-finetuned-sst-2-english (https://huggingface.co/distilbert-base-uncased-finetuned-sst-2-english)\n"
          ]
        },
        {
          "output_type": "stream",
          "name": "stdout",
          "text": [
            "------------------------------------------------------------------------------------------------------------------------------------------------------\n",
            "Character name: moore\n",
            "Frequency in story: 104\n",
            "------------------------------------------------------------------------------------------------------------------------------------------------------\n",
            "Running sentiment analysis...\n",
            "------------------------------------------------------------------------------------------------------------------------------------------------------\n",
            "Character name: moore\n",
            "Frequency in story: 104\n",
            "Classified as NEGATIVE with average score of: 0.5219163103745532\n",
            "------------------------------------------------------------------------------------------------------------------------------------------------------\n",
            "------------------------------------------------------------------------------------------------------------------------------------------------------\n",
            "Character name: toby\n",
            "Frequency in story: 48\n",
            "------------------------------------------------------------------------------------------------------------------------------------------------------\n",
            "Running sentiment analysis...\n",
            "------------------------------------------------------------------------------------------------------------------------------------------------------\n",
            "Character name: toby\n",
            "Frequency in story: 48\n",
            "Classified as NEGATIVE with average score of: 0.6744057213266692\n",
            "------------------------------------------------------------------------------------------------------------------------------------------------------\n",
            "------------------------------------------------------------------------------------------------------------------------------------------------------\n",
            "Character name: aunt\n",
            "Frequency in story: 29\n",
            "------------------------------------------------------------------------------------------------------------------------------------------------------\n",
            "Running sentiment analysis...\n",
            "------------------------------------------------------------------------------------------------------------------------------------------------------\n",
            "Character name: aunt\n",
            "Frequency in story: 29\n",
            "Classified as NEGATIVE with average score of: 0.6480570599950594\n",
            "------------------------------------------------------------------------------------------------------------------------------------------------------\n",
            "------------------------------------------------------------------------------------------------------------------------------------------------------\n",
            "Character name: thy\n",
            "Frequency in story: 25\n",
            "------------------------------------------------------------------------------------------------------------------------------------------------------\n",
            "Running sentiment analysis...\n",
            "------------------------------------------------------------------------------------------------------------------------------------------------------\n",
            "Character name: thy\n",
            "Frequency in story: 25\n",
            "Classified as NEGATIVE with average score of: 0.5276947903633118\n",
            "------------------------------------------------------------------------------------------------------------------------------------------------------\n"
          ]
        },
        {
          "output_type": "display_data",
          "data": {
            "text/plain": [
              "<Figure size 432x288 with 1 Axes>"
            ],
            "image/png": "[encoded data removed]"
          },
          "metadata": {
            "needs_background": "light"
          }
        },
        {
          "output_type": "stream",
          "name": "stdout",
          "text": [
            "______________________________________________________________________________________________________________________________________________________\n",
            "Lovecraft_AttheMountainofMadness.json\n",
            "______________________________________________________________________________________________________________________________________________________\n",
            "\n"
          ]
        },
        {
          "output_type": "stream",
          "name": "stderr",
          "text": [
            "No model was supplied, defaulted to distilbert-base-uncased-finetuned-sst-2-english (https://huggingface.co/distilbert-base-uncased-finetuned-sst-2-english)\n"
          ]
        },
        {
          "output_type": "stream",
          "name": "stdout",
          "text": [
            "------------------------------------------------------------------------------------------------------------------------------------------------------\n",
            "Character name: danforth\n",
            "Frequency in story: 60\n",
            "------------------------------------------------------------------------------------------------------------------------------------------------------\n",
            "Running sentiment analysis...\n",
            "------------------------------------------------------------------------------------------------------------------------------------------------------\n",
            "Character name: danforth\n",
            "Frequency in story: 60\n",
            "Classified as NEGATIVE with average score of: 0.5842140128215155\n",
            "------------------------------------------------------------------------------------------------------------------------------------------------------\n",
            "------------------------------------------------------------------------------------------------------------------------------------------------------\n",
            "Character name: pabodie\n",
            "Frequency in story: 28\n",
            "------------------------------------------------------------------------------------------------------------------------------------------------------\n",
            "Running sentiment analysis...\n",
            "------------------------------------------------------------------------------------------------------------------------------------------------------\n",
            "Character name: pabodie\n",
            "Frequency in story: 28\n",
            "Classified as POSITIVE with average score of: 0.4794040748051235\n",
            "------------------------------------------------------------------------------------------------------------------------------------------------------\n",
            "------------------------------------------------------------------------------------------------------------------------------------------------------\n",
            "Character name: cyclopean\n",
            "Frequency in story: 11\n",
            "------------------------------------------------------------------------------------------------------------------------------------------------------\n",
            "Running sentiment analysis...\n",
            "------------------------------------------------------------------------------------------------------------------------------------------------------\n",
            "Character name: cyclopean\n",
            "Frequency in story: 11\n",
            "Classified as NEGATIVE with average score of: 0.7837112654339183\n",
            "------------------------------------------------------------------------------------------------------------------------------------------------------\n",
            "------------------------------------------------------------------------------------------------------------------------------------------------------\n",
            "Character name: mctighe\n",
            "Frequency in story: 10\n",
            "------------------------------------------------------------------------------------------------------------------------------------------------------\n",
            "Running sentiment analysis...\n",
            "------------------------------------------------------------------------------------------------------------------------------------------------------\n",
            "Character name: mctighe\n",
            "Frequency in story: 10\n",
            "Classified as NEGATIVE with average score of: 0.7516911625862123\n",
            "------------------------------------------------------------------------------------------------------------------------------------------------------\n"
          ]
        },
        {
          "output_type": "display_data",
          "data": {
            "text/plain": [
              "<Figure size 432x288 with 1 Axes>"
            ],
            "image/png": "[encoded data removed]"
          },
          "metadata": {
            "needs_background": "light"
          }
        },
        {
          "output_type": "stream",
          "name": "stdout",
          "text": [
            "______________________________________________________________________________________________________________________________________________________\n",
            "Kipling_TheEndofthePassage.json\n",
            "______________________________________________________________________________________________________________________________________________________\n",
            "\n"
          ]
        },
        {
          "output_type": "stream",
          "name": "stderr",
          "text": [
            "No model was supplied, defaulted to distilbert-base-uncased-finetuned-sst-2-english (https://huggingface.co/distilbert-base-uncased-finetuned-sst-2-english)\n"
          ]
        },
        {
          "output_type": "stream",
          "name": "stdout",
          "text": [
            "------------------------------------------------------------------------------------------------------------------------------------------------------\n",
            "Character name: spurstow\n",
            "Frequency in story: 60\n",
            "------------------------------------------------------------------------------------------------------------------------------------------------------\n",
            "Running sentiment analysis...\n",
            "------------------------------------------------------------------------------------------------------------------------------------------------------\n",
            "Character name: spurstow\n",
            "Frequency in story: 60\n",
            "Classified as NEGATIVE with average score of: 0.6063133686780929\n",
            "------------------------------------------------------------------------------------------------------------------------------------------------------\n",
            "------------------------------------------------------------------------------------------------------------------------------------------------------\n",
            "Character name: hummil\n",
            "Frequency in story: 49\n",
            "------------------------------------------------------------------------------------------------------------------------------------------------------\n",
            "Running sentiment analysis...\n",
            "------------------------------------------------------------------------------------------------------------------------------------------------------\n",
            "Character name: hummil\n",
            "Frequency in story: 49\n",
            "Classified as NEGATIVE with average score of: 0.6619773336819241\n",
            "------------------------------------------------------------------------------------------------------------------------------------------------------\n",
            "------------------------------------------------------------------------------------------------------------------------------------------------------\n",
            "Character name: mottram\n",
            "Frequency in story: 32\n",
            "------------------------------------------------------------------------------------------------------------------------------------------------------\n",
            "Running sentiment analysis...\n",
            "------------------------------------------------------------------------------------------------------------------------------------------------------\n",
            "Character name: mottram\n",
            "Frequency in story: 32\n",
            "Classified as POSITIVE with average score of: 0.5085343644022942\n",
            "------------------------------------------------------------------------------------------------------------------------------------------------------\n",
            "------------------------------------------------------------------------------------------------------------------------------------------------------\n",
            "Character name: lowndes\n",
            "Frequency in story: 30\n",
            "------------------------------------------------------------------------------------------------------------------------------------------------------\n",
            "Running sentiment analysis...\n",
            "------------------------------------------------------------------------------------------------------------------------------------------------------\n",
            "Character name: lowndes\n",
            "Frequency in story: 30\n",
            "Classified as NEGATIVE with average score of: 0.7457552194595336\n",
            "------------------------------------------------------------------------------------------------------------------------------------------------------\n"
          ]
        },
        {
          "output_type": "display_data",
          "data": {
            "text/plain": [
              "<Figure size 432x288 with 1 Axes>"
            ],
            "image/png": "[encoded data removed]"
          },
          "metadata": {
            "needs_background": "light"
          }
        }
      ]
    },
    {
      "cell_type": "code",
      "source": [
        "# Run this at the end\n",
        "\n",
        "drive.flush_and_unmount()\n",
        "print('All changes made in this colab session should now be visible in Drive.')"
      ],
      "metadata": {
        "colab": {
          "base_uri": "https://localhost:8080/"
        },
        "id": "SOqCP9XiALoG",
        "outputId": "30b4906f-ea6e-4a08-cedf-5e826fd4fe9a"
      },
      "execution_count": 140,
      "outputs": [
        {
          "output_type": "stream",
          "name": "stdout",
          "text": [
            "All changes made in this colab session should now be visible in Drive.\n"
          ]
        }
      ]
    }
  ]
}